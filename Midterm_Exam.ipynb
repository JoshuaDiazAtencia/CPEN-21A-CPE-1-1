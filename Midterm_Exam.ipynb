{
  "nbformat": 4,
  "nbformat_minor": 0,
  "metadata": {
    "colab": {
      "name": "Midterm Exam.ipynb",
      "provenance": [],
      "collapsed_sections": [],
      "authorship_tag": "ABX9TyNthahZneo3WnpeVMBF+qtX",
      "include_colab_link": true
    },
    "kernelspec": {
      "name": "python3",
      "display_name": "Python 3"
    },
    "language_info": {
      "name": "python"
    }
  },
  "cells": [
    {
      "cell_type": "markdown",
      "metadata": {
        "id": "view-in-github",
        "colab_type": "text"
      },
      "source": [
        "<a href=\"https://colab.research.google.com/github/JoshuaDiazAtencia/CPEN-21A-CPE-1-1/blob/main/Midterm_Exam.ipynb\" target=\"_parent\"><img src=\"https://colab.research.google.com/assets/colab-badge.svg\" alt=\"Open In Colab\"/></a>"
      ]
    },
    {
      "cell_type": "markdown",
      "metadata": {
        "id": "Pjy7DgzkhmAl"
      },
      "source": [
        "###Midterm Exam"
      ]
    },
    {
      "cell_type": "markdown",
      "metadata": {
        "id": "5V2yEvAVlrz9"
      },
      "source": [
        "###PROBLEM STATEMENT 1"
      ]
    },
    {
      "cell_type": "code",
      "metadata": {
        "colab": {
          "base_uri": "https://localhost:8080/"
        },
        "id": "xHUTNHbBhTcv",
        "outputId": "df0be2fe-2bae-4465-9f70-6b098f18d58a"
      },
      "source": [
        "Name= \"Joshua D. Atencia\"\n",
        "Stud_Num= \"202101624\"\n",
        "Age= \"18\"\n",
        "Birth= \"04/24/03\"\n",
        "Add= \"B1 L23 San Sebastian, Kawit, Cavite\"\n",
        "Course=\"Bachelor of Science in Computer Engineering 1-1\"\n",
        "gwa= \"95\"\n",
        "Information= \"Hi! My name is \"+ Name +\" and here is my personal information:\" + \"\\n\" + \"Student Number:\" + Stud_Num +\"\\n\"+ Age +\" years old, birthdate \"+ Birth +\"\\n\"+ \"From \"+ Add +\"\\n\"+ \"Currently taking \"+ Course +\"\\n\"+ \"With GWA of \" + gwa +\" last semester\"\n",
        "print(Information)"
      ],
      "execution_count": 15,
      "outputs": [
        {
          "output_type": "stream",
          "name": "stdout",
          "text": [
            "Hi! My name is Joshua D. Atencia and here is my personal information:\n",
            "Student Number:202101624\n",
            "18 years old, birthdate 04/24/03\n",
            "From B1 L23 San Sebastian, Kawit, Cavite\n",
            "Currently taking Bachelor of Science in Computer Engineering 1-1\n",
            "With GWA of 95 last semester\n"
          ]
        }
      ]
    },
    {
      "cell_type": "markdown",
      "metadata": {
        "id": "65GJhekhlk5w"
      },
      "source": [
        "###POBLEM STATEMENT 2"
      ]
    },
    {
      "cell_type": "code",
      "metadata": {
        "colab": {
          "base_uri": "https://localhost:8080/"
        },
        "id": "m2EtjGuIlyEs",
        "outputId": "1bcbd5e5-fdde-4cb7-8fff-60efc9b5bf72"
      },
      "source": [
        "n=4\n",
        "answ= \"Y\"\n",
        "\n",
        "a=(2<n) and (n<6)\n",
        "b=(2<n) or (n<6)\n",
        "c=not(2<n) or (n==6)\n",
        "d=not(n<6)\n",
        "e=(answ==\"Y\") or (answ==\"y\")\n",
        "f=(answ==\"Y\") and (answ==\"y\")\n",
        "g= not (answ==\"y\")\n",
        "h=(2<n) and (n== 5+1) or (answ==\"No\")\n",
        "i=((n==2) and (n==7)) or (answ==\"Y\")\n",
        "j= (n==2) and ((n==7) or (answ==\"Y\"))\n",
        "print(a)\n",
        "print(b)\n",
        "print(c)\n",
        "print(d)\n",
        "print(e)\n",
        "print(f)\n",
        "print(g)\n",
        "print(h)\n",
        "print(i)\n",
        "print(j)"
      ],
      "execution_count": 56,
      "outputs": [
        {
          "output_type": "stream",
          "name": "stdout",
          "text": [
            "True\n",
            "True\n",
            "False\n",
            "False\n",
            "True\n",
            "False\n",
            "True\n",
            "False\n",
            "True\n",
            "False\n"
          ]
        }
      ]
    },
    {
      "cell_type": "markdown",
      "metadata": {
        "id": "QJYu0B0Ol0Pv"
      },
      "source": [
        "###PROBLEM STATEMENT 3"
      ]
    },
    {
      "cell_type": "code",
      "metadata": {
        "colab": {
          "base_uri": "https://localhost:8080/"
        },
        "id": "gftP0Yl2l2fs",
        "outputId": "bcb9736f-9532-43a5-b7cb-3d57fb4a84fa"
      },
      "source": [
        "x=(2)\n",
        "y=(-3) \n",
        "w=(7)\n",
        "z=(-10)\n",
        "a= x/y\n",
        "b=\tw/y/x\n",
        "c=\tz/y%x\n",
        "d=\tx%-y*w\n",
        "e=\tx%y\n",
        "f= z%w-y/x*5+5\n",
        "g= 9-x%(2+y)\n",
        "h= z//w\n",
        "i= (2+y)**2\n",
        "j= w/x*2\n",
        "print(a)\n",
        "print(b)\n",
        "print(c)\n",
        "print(d)\n",
        "print(e)\n",
        "print(f)\n",
        "print(g)\n",
        "print(h)\n",
        "print(i)\n",
        "print(j)"
      ],
      "execution_count": 32,
      "outputs": [
        {
          "output_type": "stream",
          "name": "stdout",
          "text": [
            "-0.6666666666666666\n",
            "-1.1666666666666667\n",
            "1.3333333333333335\n",
            "14\n",
            "-1\n",
            "16.5\n",
            "9\n",
            "-2\n",
            "1\n",
            "7.0\n"
          ]
        }
      ]
    }
  ]
}