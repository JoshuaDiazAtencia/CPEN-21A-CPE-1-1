{
  "nbformat": 4,
  "nbformat_minor": 0,
  "metadata": {
    "colab": {
      "name": "Demo1.ipynb",
      "provenance": [],
      "authorship_tag": "ABX9TyMuVkOBlTVPoPDHywUt6OJr",
      "include_colab_link": true
    },
    "kernelspec": {
      "name": "python3",
      "display_name": "Python 3"
    },
    "language_info": {
      "name": "python"
    }
  },
  "cells": [
    {
      "cell_type": "markdown",
      "metadata": {
        "id": "view-in-github",
        "colab_type": "text"
      },
      "source": [
        "<a href=\"https://colab.research.google.com/github/JoshuaDiazAtencia/CPEN-21A-CPE-1-1/blob/main/Demo1.ipynb\" target=\"_parent\"><img src=\"https://colab.research.google.com/assets/colab-badge.svg\" alt=\"Open In Colab\"/></a>"
      ]
    },
    {
      "cell_type": "markdown",
      "metadata": {
        "id": "8enZe6qgXnLa"
      },
      "source": [
        "####introduction to python"
      ]
    },
    {
      "cell_type": "code",
      "metadata": {
        "colab": {
          "base_uri": "https://localhost:8080/"
        },
        "id": "gz23j5JSX5gS",
        "outputId": "3869a06f-4061-4e6f-c8c5-30af1fa6ae3e"
      },
      "source": [
        "b=float(4)\n",
        "print(b)"
      ],
      "execution_count": null,
      "outputs": [
        {
          "output_type": "stream",
          "name": "stdout",
          "text": [
            "4.0\n"
          ]
        }
      ]
    },
    {
      "cell_type": "code",
      "metadata": {
        "colab": {
          "base_uri": "https://localhost:8080/"
        },
        "id": "rWV9gGMqiRNP",
        "outputId": "7ca60f91-2901-49b8-dfca-8b35ddb5da10"
      },
      "source": [
        "A= \"Si sally \"\n",
        "B= \"at \"\n",
        "Num= \"ang sampung\"\n",
        "C= \" kalabaw\"\n",
        "print(type(a))\n",
        "print(A + B + Num + C)\n"
      ],
      "execution_count": null,
      "outputs": [
        {
          "output_type": "stream",
          "name": "stdout",
          "text": [
            "<class 'int'>\n",
            "Si sally at ang sampung kalabaw\n"
          ]
        }
      ]
    },
    {
      "cell_type": "code",
      "metadata": {
        "colab": {
          "base_uri": "https://localhost:8080/"
        },
        "id": "KWpQO_2Bh86s",
        "outputId": "44beddc3-e6ca-48e0-cb1e-efa95e1851cf"
      },
      "source": [
        "x=y=z=\"four\"\n",
        "print(x)\n",
        "print(y)\n",
        "print(z)"
      ],
      "execution_count": null,
      "outputs": [
        {
          "output_type": "stream",
          "name": "stdout",
          "text": [
            "four\n",
            "four\n",
            "four\n"
          ]
        }
      ]
    },
    {
      "cell_type": "markdown",
      "metadata": {
        "id": "T1eR2GWDh8j7"
      },
      "source": [
        ""
      ]
    },
    {
      "cell_type": "code",
      "metadata": {
        "colab": {
          "base_uri": "https://localhost:8080/"
        },
        "id": "BM0UK-WpiMVS",
        "outputId": "ec459e0d-e8b4-4a1b-d27d-f76c4ad96ade"
      },
      "source": [
        "a, b, c, d = 1, 2, 3, 4\n",
        "print(a+d) \n",
        "print(d-c)\n",
        "print(b*c)\n",
        "print(b**2)"
      ],
      "execution_count": null,
      "outputs": [
        {
          "output_type": "stream",
          "name": "stdout",
          "text": [
            "5\n",
            "1\n",
            "6\n",
            "4\n"
          ]
        }
      ]
    }
  ]
}