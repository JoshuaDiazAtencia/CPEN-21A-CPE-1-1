{
  "nbformat": 4,
  "nbformat_minor": 0,
  "metadata": {
    "colab": {
      "name": "Control Structure.ipynb",
      "provenance": [],
      "collapsed_sections": [],
      "authorship_tag": "ABX9TyM1pC+p4WyjYeHEpIjNN/Fb",
      "include_colab_link": true
    },
    "kernelspec": {
      "name": "python3",
      "display_name": "Python 3"
    },
    "language_info": {
      "name": "python"
    }
  },
  "cells": [
    {
      "cell_type": "markdown",
      "metadata": {
        "id": "view-in-github",
        "colab_type": "text"
      },
      "source": [
        "<a href=\"https://colab.research.google.com/github/JoshuaDiazAtencia/CPEN-21A-CPE-1-1/blob/main/Control_Structure.ipynb\" target=\"_parent\"><img src=\"https://colab.research.google.com/assets/colab-badge.svg\" alt=\"Open In Colab\"/></a>"
      ]
    },
    {
      "cell_type": "markdown",
      "metadata": {
        "id": "2GO49Ilgm10O"
      },
      "source": [
        "##If Statement"
      ]
    },
    {
      "cell_type": "code",
      "metadata": {
        "colab": {
          "base_uri": "https://localhost:8080/"
        },
        "id": "yD8viMjXlvAS",
        "outputId": "f830ab9b-c32f-4617-e241-161368a09fa6"
      },
      "source": [
        "a= 12\n",
        "b= 100\n",
        "if b>a:\n",
        "  print(\"b is greater than a\")"
      ],
      "execution_count": null,
      "outputs": [
        {
          "output_type": "stream",
          "name": "stdout",
          "text": [
            "b is greater than a\n"
          ]
        }
      ]
    },
    {
      "cell_type": "markdown",
      "metadata": {
        "id": "i4hJ6fCto7o7"
      },
      "source": [
        "##Elif Condition"
      ]
    },
    {
      "cell_type": "code",
      "metadata": {
        "colab": {
          "base_uri": "https://localhost:8080/"
        },
        "id": "P_GiBCa4nUMK",
        "outputId": "ce5056a6-16f3-48b9-b56c-0529531e322c"
      },
      "source": [
        "a= 12\n",
        "b= 12\n",
        "if b>a:\n",
        "  print(\"b is greater than a\")\n",
        "elif a==b:\n",
        "  print(\"a and b are equal\")"
      ],
      "execution_count": null,
      "outputs": [
        {
          "output_type": "stream",
          "name": "stdout",
          "text": [
            "a and b are equal\n"
          ]
        }
      ]
    },
    {
      "cell_type": "markdown",
      "metadata": {
        "id": "5Rte-3QjpUZH"
      },
      "source": [
        "##Else Statements"
      ]
    },
    {
      "cell_type": "code",
      "metadata": {
        "colab": {
          "base_uri": "https://localhost:8080/"
        },
        "id": "gdIvPjdtpXcA",
        "outputId": "e26be4a7-fb86-4bb4-c24e-1ca75b33d92c"
      },
      "source": [
        "a= 200\n",
        "b= 33\n",
        "if b>a:\n",
        "  print(\"b is greater than a\")\n",
        "elif a==b:\n",
        "  print(\"a and b are equal\")\n",
        "else:\n",
        "  print(\"a is greater than b\")"
      ],
      "execution_count": null,
      "outputs": [
        {
          "output_type": "stream",
          "name": "stdout",
          "text": [
            "a is greater than b\n"
          ]
        }
      ]
    },
    {
      "cell_type": "markdown",
      "metadata": {
        "id": "0GdqAQkzqWRl"
      },
      "source": [
        "##Short Hand If Statement"
      ]
    },
    {
      "cell_type": "code",
      "metadata": {
        "colab": {
          "base_uri": "https://localhost:8080/"
        },
        "id": "kK0pNMErqV5K",
        "outputId": "06a75bb9-eec4-48c6-aa40-6bbe273234ff"
      },
      "source": [
        "a= 200\n",
        "b= 33\n",
        "if a>b: print(\"b is greater than a\")"
      ],
      "execution_count": null,
      "outputs": [
        {
          "output_type": "stream",
          "name": "stdout",
          "text": [
            "b is greater than a\n"
          ]
        }
      ]
    },
    {
      "cell_type": "markdown",
      "metadata": {
        "id": "rflgxzyqrHvA"
      },
      "source": [
        "##Short Hand If...Else Statement"
      ]
    },
    {
      "cell_type": "code",
      "metadata": {
        "colab": {
          "base_uri": "https://localhost:8080/"
        },
        "id": "iJBwzCIXrNwF",
        "outputId": "95b9a6eb-a1c5-4753-bd95-d7387f082fc0"
      },
      "source": [
        "a= 200\n",
        "b= 33\n",
        "print(\"A\") if a>b else print(\"B\")"
      ],
      "execution_count": null,
      "outputs": [
        {
          "output_type": "stream",
          "name": "stdout",
          "text": [
            "A\n"
          ]
        }
      ]
    },
    {
      "cell_type": "markdown",
      "metadata": {
        "id": "suHM3Ev_sChZ"
      },
      "source": [
        "##And-both conditions are true"
      ]
    },
    {
      "cell_type": "code",
      "metadata": {
        "colab": {
          "base_uri": "https://localhost:8080/"
        },
        "id": "Sqg3TRZgsHUR",
        "outputId": "81b63ce8-d920-44f8-c12d-a3326fd1df36"
      },
      "source": [
        "a= 200\n",
        "b= 33\n",
        "c= 500\n",
        "if a>b and c>a:\n",
        "  print(\"Both conditions are True\")\n",
        "\n",
        "if a>b or b>c:\n",
        "    print(\"One condition is True\")\n"
      ],
      "execution_count": null,
      "outputs": [
        {
          "output_type": "stream",
          "name": "stdout",
          "text": [
            "Both conditions are True\n",
            "One condition is True\n"
          ]
        }
      ]
    },
    {
      "cell_type": "markdown",
      "metadata": {
        "id": "28DAP0rJuZjW"
      },
      "source": [
        "##And Condition"
      ]
    },
    {
      "cell_type": "code",
      "metadata": {
        "colab": {
          "base_uri": "https://localhost:8080/"
        },
        "id": "iV-pTGaMuDTD",
        "outputId": "4bcc8a8e-c77a-420f-9927-b72ec8a93701"
      },
      "source": [
        "a= 15\n",
        "b=35\n",
        "if b>a and a<b:\n",
        "  print(\"Both conditions are True\")\n",
        "elif b<a and a>b:\n",
        "  prnt(\"a is larger than b\")\n",
        "else:\n",
        "  print(\"None of the above\")"
      ],
      "execution_count": null,
      "outputs": [
        {
          "output_type": "stream",
          "name": "stdout",
          "text": [
            "Both conditions are True\n"
          ]
        }
      ]
    },
    {
      "cell_type": "markdown",
      "metadata": {
        "id": "M4qPOLEavVx5"
      },
      "source": [
        "##Or Condition"
      ]
    },
    {
      "cell_type": "code",
      "metadata": {
        "colab": {
          "base_uri": "https://localhost:8080/"
        },
        "id": "uy3rZdjWvVIN",
        "outputId": "6980878b-dba3-4e9d-cb32-27695ad108c9"
      },
      "source": [
        "a= 15\n",
        "b= 35\n",
        "if b>a or a==b:\n",
        "  print(\"True\")\n",
        "elif b==b or a>b:\n",
        "  print(\"Absolutely True\")\n",
        "else:\n",
        "  print(\"Nothong to compare\")\n",
        "\n",
        "a= 500\n",
        "b= 20\n",
        "if b>a or a==b:\n",
        "  print(\"True\")\n",
        "elif b==b or a>b:\n",
        "  print(\"Absolutely True\")\n",
        "else:\n",
        "  print(\"Nothong to compare\")"
      ],
      "execution_count": null,
      "outputs": [
        {
          "output_type": "stream",
          "name": "stdout",
          "text": [
            "True\n",
            "Absolutely True\n"
          ]
        }
      ]
    },
    {
      "cell_type": "markdown",
      "metadata": {
        "id": "oIjND0Bywm6w"
      },
      "source": [
        "##Nested If"
      ]
    },
    {
      "cell_type": "code",
      "metadata": {
        "colab": {
          "base_uri": "https://localhost:8080/"
        },
        "id": "hE20hPkJwoCH",
        "outputId": "2826a842-1368-468a-f5c9-3591673b08c5"
      },
      "source": [
        "#if statement inside an if statement\n",
        "x= 41\n",
        "if x>10:\n",
        "  print(\"Above Ten\")\n",
        "  if x>20:\n",
        "    print(\"And also above 20!\")\n",
        "  if x>30:\n",
        "    print(\" above 30\")\n",
        "else:\n",
        "  print(\"But not above 20\")"
      ],
      "execution_count": 40,
      "outputs": [
        {
          "output_type": "stream",
          "name": "stdout",
          "text": [
            "Above Ten\n",
            "And also above 20!\n",
            " above 30\n"
          ]
        }
      ]
    },
    {
      "cell_type": "markdown",
      "metadata": {
        "id": "ihn-2a8y14tm"
      },
      "source": [
        "##Example 1: Program to determine if the voter is qualified to vote"
      ]
    },
    {
      "cell_type": "code",
      "metadata": {
        "colab": {
          "base_uri": "https://localhost:8080/"
        },
        "id": "5t_chzdKx8dd",
        "outputId": "455597c4-c5b3-4591-c3f6-e4d6e5b50f65"
      },
      "source": [
        "Age= int(input(\"Enter your age:\"))\n",
        "if Age<18:\n",
        "  print(\"Not qualified to vote\")\n",
        "elif Age>=18:\n",
        "  print(\"Qualified to vote\")"
      ],
      "execution_count": null,
      "outputs": [
        {
          "output_type": "stream",
          "name": "stdout",
          "text": [
            "Enter your age:12\n",
            "Not qualified to vote\n"
          ]
        }
      ]
    },
    {
      "cell_type": "markdown",
      "metadata": {
        "id": "kT_KoFhU0K6z"
      },
      "source": [
        "##Example 2: Program to determine if a number is positive, negative, or zero"
      ]
    },
    {
      "cell_type": "code",
      "metadata": {
        "colab": {
          "base_uri": "https://localhost:8080/"
        },
        "id": "964GMjApzQE8",
        "outputId": "383d9692-11ad-43ee-d02a-c794462cedd9"
      },
      "source": [
        "Num= int(input(\"Input:\"))\n",
        "if Num>0:\n",
        "  print(\"Positive\")\n",
        "elif Num<0:\n",
        "  print(\"Negative\")\n",
        "else:\n",
        "  print(\"Zero\")"
      ],
      "execution_count": null,
      "outputs": [
        {
          "output_type": "stream",
          "name": "stdout",
          "text": [
            "Input:0\n",
            "Zero\n"
          ]
        }
      ]
    },
    {
      "cell_type": "markdown",
      "metadata": {
        "id": "ttXpXISf1lQD"
      },
      "source": [
        "##Example 3: Program to determine for grades"
      ]
    },
    {
      "cell_type": "code",
      "metadata": {
        "colab": {
          "base_uri": "https://localhost:8080/"
        },
        "id": "iIg6NybJ0Pb1",
        "outputId": "10c66d1a-5985-4905-b71a-4312bc7bc331"
      },
      "source": [
        "Grade= int(input(\"Grades:\"))\n",
        "if Grade>=75:\n",
        "  print(\"Passed\")\n",
        "elif Grade==74:\n",
        "  print(\"Remedial\")\n",
        "else:\n",
        "  print(\"Failed\")\n"
      ],
      "execution_count": null,
      "outputs": [
        {
          "output_type": "stream",
          "name": "stdout",
          "text": [
            "Grades:73\n",
            "Failed\n"
          ]
        }
      ]
    }
  ]
}