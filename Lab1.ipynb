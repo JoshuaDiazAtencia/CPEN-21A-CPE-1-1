{
  "nbformat": 4,
  "nbformat_minor": 0,
  "metadata": {
    "colab": {
      "name": "Lab1.ipynb",
      "provenance": [],
      "authorship_tag": "ABX9TyPyS14lmuVEHG52N9/RIhC/",
      "include_colab_link": true
    },
    "kernelspec": {
      "name": "python3",
      "display_name": "Python 3"
    },
    "language_info": {
      "name": "python"
    }
  },
  "cells": [
    {
      "cell_type": "markdown",
      "metadata": {
        "id": "view-in-github",
        "colab_type": "text"
      },
      "source": [
        "<a href=\"https://colab.research.google.com/github/JoshuaDiazAtencia/CPEN-21A-CPE-1-1/blob/main/Lab1.ipynb\" target=\"_parent\"><img src=\"https://colab.research.google.com/assets/colab-badge.svg\" alt=\"Open In Colab\"/></a>"
      ]
    },
    {
      "cell_type": "markdown",
      "metadata": {
        "id": "vre03NPnUaQJ"
      },
      "source": [
        "LABORATORY NO. 1"
      ]
    },
    {
      "cell_type": "code",
      "metadata": {
        "colab": {
          "base_uri": "https://localhost:8080/"
        },
        "id": "6tS948sYUQiC",
        "outputId": "1b00d32a-f338-4721-cd97-0f6763534444"
      },
      "source": [
        "message=\"Welcome to Python Programming\"\n",
        "print(message)"
      ],
      "execution_count": 1,
      "outputs": [
        {
          "output_type": "stream",
          "name": "stdout",
          "text": [
            "Welcome to Python Programming\n"
          ]
        }
      ]
    },
    {
      "cell_type": "code",
      "metadata": {
        "colab": {
          "base_uri": "https://localhost:8080/"
        },
        "id": "U-PVMc9FU8yn",
        "outputId": "e4de4f87-8170-45f3-89f1-25ef9fda7a1b"
      },
      "source": [
        "#This code displays the creator's name, age, and address\n",
        "name= \"Joshua D. Atencia\" \n",
        "age= str(18)\n",
        "add= \"San Sebastian, Kawit, Cavite\"\n",
        "info= \"Hi! My name is \"+name+\", I'm \"+age+\" years old\"+\", from \"+add\n",
        "print(info)"
      ],
      "execution_count": 11,
      "outputs": [
        {
          "output_type": "stream",
          "name": "stdout",
          "text": [
            "Hi! My name is Joshua D. Atencia, I'm 18 years old, from San Sebastian, Kawit, Cavite\n"
          ]
        }
      ]
    }
  ]
}