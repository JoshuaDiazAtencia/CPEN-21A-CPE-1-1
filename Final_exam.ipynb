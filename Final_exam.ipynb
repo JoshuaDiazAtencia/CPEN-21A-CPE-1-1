{
  "nbformat": 4,
  "nbformat_minor": 0,
  "metadata": {
    "colab": {
      "name": "Final exam.ipynb",
      "provenance": [],
      "collapsed_sections": [],
      "authorship_tag": "ABX9TyOe1zbARZ3FXNxqo13V4ftd",
      "include_colab_link": true
    },
    "kernelspec": {
      "name": "python3",
      "display_name": "Python 3"
    },
    "language_info": {
      "name": "python"
    }
  },
  "cells": [
    {
      "cell_type": "markdown",
      "metadata": {
        "id": "view-in-github",
        "colab_type": "text"
      },
      "source": [
        "<a href=\"https://colab.research.google.com/github/JoshuaDiazAtencia/CPEN-21A-CPE-1-1/blob/main/Final_exam.ipynb\" target=\"_parent\"><img src=\"https://colab.research.google.com/assets/colab-badge.svg\" alt=\"Open In Colab\"/></a>"
      ]
    },
    {
      "cell_type": "markdown",
      "source": [
        "###JOSHUA D. ATENCIA\n",
        "####BS CPE 1-1"
      ],
      "metadata": {
        "id": "cBxWwkN_DaTk"
      }
    },
    {
      "cell_type": "markdown",
      "source": [
        "###PROBLEM STATEMENT  1\n",
        "\n"
      ],
      "metadata": {
        "id": "erdgK232Ugf6"
      }
    },
    {
      "cell_type": "code",
      "execution_count": 161,
      "metadata": {
        "colab": {
          "base_uri": "https://localhost:8080/"
        },
        "id": "PpkL3hJjUT-k",
        "outputId": "5d6028e6-68ec-452a-90a0-7d77d04bb1b4"
      },
      "outputs": [
        {
          "output_type": "stream",
          "name": "stdout",
          "text": [
            "the sum is -5\n"
          ]
        }
      ],
      "source": [
        "sum= 0\n",
        "number=[-5,-4,-3,-2,-1,0, 1,2,3,4]\n",
        "for x in number:\n",
        "  sum= sum + x\n",
        "print(\"the sum is\",sum)"
      ]
    },
    {
      "cell_type": "markdown",
      "source": [
        "###PROBLEM STATEMENT 2"
      ],
      "metadata": {
        "id": "PGUfErN3Umgg"
      }
    },
    {
      "cell_type": "code",
      "source": [
        "number= int(input(\"1st number:\"))\n",
        "while number!=0:\n",
        "  a=int(input(\"2nd number:\"))\n",
        "  b=int(input(\"3rd number:\"))\n",
        "  c=int(input(\"4th number:\"))\n",
        "  d=int(input(\"5th number:\"))\n",
        "  break\n",
        "x=number+ d\n",
        "print(x)\n"
      ],
      "metadata": {
        "colab": {
          "base_uri": "https://localhost:8080/"
        },
        "id": "Cgu8sd6hUoa2",
        "outputId": "b281ead1-57aa-48e7-e1d7-98a08666ed53"
      },
      "execution_count": 139,
      "outputs": [
        {
          "output_type": "stream",
          "name": "stdout",
          "text": [
            "1st number:1\n",
            "2nd number:2\n",
            "3rd number:3\n",
            "4th number:4\n",
            "5th number:0\n",
            "1\n"
          ]
        }
      ]
    },
    {
      "cell_type": "markdown",
      "source": [
        "###PROBLEM STATEMENT 3"
      ],
      "metadata": {
        "id": "x2yD_LPPUoyv"
      }
    },
    {
      "cell_type": "code",
      "source": [
        "grade=int(input(\"Numerical Grade:\"))\n",
        "if grade>=90:\n",
        "  print(\"Character grade: A\")\n",
        "elif grade>=80 and grade<=89:\n",
        "  print(\"Character grade: B\")\n",
        "elif grade>=70 and grade<=79:\n",
        "  print(\"Character grade: C\")\n",
        "elif grade>=60 and grade<69:\n",
        "  print(\"Character grade: D\")\n",
        "else:\n",
        "  print(\"Character grade: F\")"
      ],
      "metadata": {
        "colab": {
          "base_uri": "https://localhost:8080/"
        },
        "id": "R75oHxaJUp2B",
        "outputId": "c3c72ef5-fd85-4565-bd77-ad6e58b13fe1"
      },
      "execution_count": 85,
      "outputs": [
        {
          "output_type": "stream",
          "name": "stdout",
          "text": [
            "Numerical Grade:50\n",
            "Character grade: F\n"
          ]
        }
      ]
    }
  ]
}